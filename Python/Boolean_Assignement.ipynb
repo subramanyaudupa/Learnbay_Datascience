{
  "nbformat": 4,
  "nbformat_minor": 0,
  "metadata": {
    "colab": {
      "name": "Boolean_Assignement.ipynb",
      "provenance": [],
      "include_colab_link": true
    },
    "kernelspec": {
      "name": "python3",
      "display_name": "Python 3"
    }
  },
  "cells": [
    {
      "cell_type": "markdown",
      "metadata": {
        "id": "view-in-github",
        "colab_type": "text"
      },
      "source": [
        "<a href=\"https://colab.research.google.com/github/subramanyaudupa/Learnbay_Datascience/blob/main/Python/Boolean_Assignement.ipynb\" target=\"_parent\"><img src=\"https://colab.research.google.com/assets/colab-badge.svg\" alt=\"Open In Colab\"/></a>"
      ]
    },
    {
      "cell_type": "code",
      "metadata": {
        "id": "7JIFn6BP4M0R",
        "outputId": "2ff043c5-6d26-4e0e-889f-ce847fb6ade2",
        "colab": {
          "base_uri": "https://localhost:8080/",
          "height": 51
        }
      },
      "source": [
        "#Declare a boolean value and store it in a variable. \n",
        "\n",
        "a = True\n",
        "b = False\n",
        "\n",
        "#Check the type and print the id of the same.\n",
        "\n",
        "type(a)\n",
        "type(b)\n",
        "print(id(a),type(a))\n",
        "print(id(b),type(b))\n",
        "\n",
        "\n"
      ],
      "execution_count": 4,
      "outputs": [
        {
          "output_type": "stream",
          "text": [
            "10302848 <class 'bool'>\n",
            "10300256 <class 'bool'>\n"
          ],
          "name": "stdout"
        }
      ]
    },
    {
      "cell_type": "code",
      "metadata": {
        "id": "o9bjjhN64kAP",
        "outputId": "76550fae-aae4-4a94-beb3-3eb4e08344da",
        "colab": {
          "base_uri": "https://localhost:8080/",
          "height": 51
        }
      },
      "source": [
        "#Take one boolean value between 0 - 256.\n",
        "#Assign it to two different variables.\n",
        "a = 10\n",
        "b = 10\n",
        "\n",
        "#Check the id of both the variables. It should come same. Check why?\n",
        "\n",
        "print(id(a))\n",
        "print(id(b))\n",
        "\n",
        "\n",
        "\n",
        "\n"
      ],
      "execution_count": 9,
      "outputs": [
        {
          "output_type": "stream",
          "text": [
            "10914784\n",
            "10914784\n"
          ],
          "name": "stdout"
        }
      ]
    },
    {
      "cell_type": "code",
      "metadata": {
        "id": "yr4ETGSf4l5y",
        "outputId": "5e096cbc-04d1-42c6-f76d-4ca38781b0ac",
        "colab": {
          "base_uri": "https://localhost:8080/",
          "height": 68
        }
      },
      "source": [
        "#Arithmatic Operations on boolean data\n",
        "#Take two different boolean values.\n",
        "#Store them in two different variables.\n",
        "a = True\n",
        "b = False\n",
        "\n",
        "\n",
        "#Do below operations on them:-\n",
        "#Find sum of both values\n",
        "print(a + b)   \n",
        "\n",
        "\n",
        "#Find differce between them\n",
        "\n",
        "print(a - b)\n",
        "\n",
        "#Find the product of both.\n",
        "\n",
        "print(a*b)\n",
        "\n",
        "#Find value after dividing first value with second value\n",
        "# print(a/b)    \n",
        "\n",
        "    \n",
        "#Find the remainder after dividing first value with second value\n",
        "# print(a//b)    \n",
        "\n",
        "    \n",
        "#Find the quotient after dividing first value with second value\n",
        "# print(a%b)  \n",
        "\n",
        "    \n",
        "#Find the result of first value to the power of second value.\n",
        "# print(a**b)   \n",
        "\n",
        "\n",
        "\n",
        "\n",
        "\n",
        "\n",
        "\n",
        "\n",
        "\n",
        "\n",
        "    "
      ],
      "execution_count": 6,
      "outputs": [
        {
          "output_type": "stream",
          "text": [
            "1\n",
            "1\n",
            "0\n"
          ],
          "name": "stdout"
        }
      ]
    },
    {
      "cell_type": "code",
      "metadata": {
        "id": "xG4mX84E4n2O",
        "outputId": "fb9bbbfb-dbcc-4a67-f612-42bfdedf2dd7",
        "colab": {
          "base_uri": "https://localhost:8080/",
          "height": 85
        }
      },
      "source": [
        "#Comparison Operators on boolean values\n",
        "#Take two different boolean values.\n",
        "#Store them in two different variables.\n",
        "\n",
        "a = True\n",
        "b = False\n",
        "\n",
        "#Do below operations on them:-\n",
        "    #Compare these two values with below operator:-\n",
        "        #Greater than, '>'\n",
        "if(a>b):\n",
        "  print(a)\n",
        "else:\n",
        "  print(b)    \n",
        "\n",
        "\n",
        "        #less than, '<'\n",
        "if(a<b):\n",
        "  print(a)\n",
        "else:\n",
        "  print(b)    \n",
        "\n",
        "        #Greater than or equal to, '>='\n",
        "if(a>=b):\n",
        "  print(a)\n",
        "else:\n",
        "  print(b)\n",
        "\n",
        "        #Less than or equal to, '<='    \n",
        "if(a<=b):\n",
        "  print(a)\n",
        "else:\n",
        "  print(b)\n",
        "\n",
        "#Observe their output(return type should be boolean)\n",
        "\n",
        "\n",
        "\n",
        "\n",
        "\n",
        "\n",
        "\n",
        "\n"
      ],
      "execution_count": 8,
      "outputs": [
        {
          "output_type": "stream",
          "text": [
            "True\n",
            "False\n",
            "True\n",
            "False\n"
          ],
          "name": "stdout"
        }
      ]
    },
    {
      "cell_type": "code",
      "metadata": {
        "id": "TUIo2Z9V4qBJ",
        "outputId": "1cf8cc3c-c62e-4260-a30e-74f25c0bdef3",
        "colab": {
          "base_uri": "https://localhost:8080/",
          "height": 51
        }
      },
      "source": [
        "#Equality Operator\n",
        "#Take two different boolean values.\n",
        "#Store them in two different variables.\n",
        "a =True\n",
        "b =False\n",
        "\n",
        "\n",
        "\n",
        "#Equuate them using equality operator (==, !=)\n",
        "\n",
        "if(a==b):\n",
        "  print(\"True\")\n",
        "else:\n",
        "  print(\"False\")\n",
        "\n",
        "\n",
        "if(a!=b):\n",
        "  print(\"True\")\n",
        "else:\n",
        "  print(\"False\")\n",
        "#Observe the output(return type should be boolean)\n",
        "\n",
        "\n",
        "\n",
        "\n",
        "\n",
        "\n"
      ],
      "execution_count": 12,
      "outputs": [
        {
          "output_type": "stream",
          "text": [
            "False\n",
            "True\n"
          ],
          "name": "stdout"
        }
      ]
    },
    {
      "cell_type": "code",
      "metadata": {
        "id": "XukEq5E44rxv",
        "outputId": "4a1bb3e8-df56-4464-e014-f08a7b74b8e8",
        "colab": {
          "base_uri": "https://localhost:8080/",
          "height": 187
        }
      },
      "source": [
        "#Logical operators\n",
        "#Observe the output of below code\n",
        "#Cross check the output manually\n",
        "\n",
        "print(True and True)        #----------------------------------------->Output is True\n",
        "print(False and True)        #----------------------------------------->Output is False\n",
        "print(True and False)        #----------------------------------------->Output is False\n",
        "print(False and False)       #----------------------------------------->Output is False\n",
        "\n",
        "print(True or True)          #----------------------------------------->Output is True\n",
        "print(False or True)         #----------------------------------------->Output is True\n",
        "print(True or False)         #----------------------------------------->Output is True\n",
        "print(False or False)        #----------------------------------------->Output is False\n",
        "\n",
        "print(not True)              #----------------------------------------->Output is False\n",
        "print(not False)             #----------------------------------------->Output is True"
      ],
      "execution_count": 13,
      "outputs": [
        {
          "output_type": "stream",
          "text": [
            "True\n",
            "False\n",
            "False\n",
            "False\n",
            "True\n",
            "True\n",
            "True\n",
            "False\n",
            "False\n",
            "True\n"
          ],
          "name": "stdout"
        }
      ]
    },
    {
      "cell_type": "code",
      "metadata": {
        "id": "02jPgt094vK-",
        "outputId": "2ff572f7-3ba5-466a-c8ed-60aa68a713cb",
        "colab": {
          "base_uri": "https://localhost:8080/",
          "height": 119
        }
      },
      "source": [
        "#Bitwise Operators\n",
        "#Do below operations on the values provided below:-\n",
        "    #Bitwise and(&) -----------------------------------------> True, True    -------> Output is True  \n",
        "a = 10\n",
        "b = 10\n",
        "if (a & b):\n",
        "  print(True)\n",
        "else:\n",
        "  print(False)\n",
        "\n",
        "\n",
        "    #Bitwise or(|)  -----------------------------------------> True, False   -------> Output is True\n",
        "a = 10\n",
        "b = 0\n",
        "if (a | b):\n",
        "  print(True)\n",
        "else:\n",
        "  print(False)\n",
        "\n",
        "\n",
        "    #Bitwise(^)     -----------------------------------------> True, False   -------> Output is True\n",
        "a = 10\n",
        "b = 0\n",
        "if (a ^ b):\n",
        "  print(True)\n",
        "else:\n",
        "  print(False)\n",
        "  \n",
        "\n",
        "    #Bitwise negation(~) ------------------------------------> True          -------> Output is -2\n",
        "print(~1)\n",
        "   \n",
        "\n",
        "    #Bitwise left shift  ------------------------------------> True,2        -------> Output is 4\n",
        "var = 2;\n",
        "\n",
        "print(\"var = \", var<<1)  #1 position to left\n",
        "\n",
        "\n",
        "    #Bitwise right shift ------------------------------------> True,2        -------> Output is 0\n",
        "var = 2;\n",
        "\n",
        "print(\"var = \", var>>2)  #2 position to right\n",
        "\n",
        "\n",
        "#Cross check the output manually\n",
        "\n",
        "\n",
        "\n",
        "\n",
        "\n",
        "\n",
        "\n",
        "\n",
        "\n"
      ],
      "execution_count": 38,
      "outputs": [
        {
          "output_type": "stream",
          "text": [
            "True\n",
            "True\n",
            "True\n",
            "-2\n",
            "var =  4\n",
            "var =  0\n"
          ],
          "name": "stdout"
        }
      ]
    },
    {
      "cell_type": "code",
      "metadata": {
        "id": "cy5i7sWz4v_c",
        "outputId": "176a3ce5-5241-4fa9-b62b-9c14211dc933",
        "colab": {
          "base_uri": "https://localhost:8080/",
          "height": 85
        }
      },
      "source": [
        "#What is the output of expression inside print statement. Cross check before running the program.\n",
        "a = True\n",
        "b = True\n",
        "print(a is b)          #True or False?   #True\n",
        "print(a is not b)      #True or False?   #False\n",
        "\n",
        "a = False\n",
        "b = False\n",
        "print(a is b)          #True or False?  #True\n",
        "print(a is not b)      #True or False?  #False\n"
      ],
      "execution_count": 39,
      "outputs": [
        {
          "output_type": "stream",
          "text": [
            "True\n",
            "False\n",
            "True\n",
            "False\n"
          ],
          "name": "stdout"
        }
      ]
    },
    {
      "cell_type": "code",
      "metadata": {
        "id": "AOcPQi8544M-",
        "outputId": "624482e6-061d-4577-f437-663e3b7e299a",
        "colab": {
          "base_uri": "https://localhost:8080/",
          "height": 102
        }
      },
      "source": [
        "#Membership operation\n",
        "#in, not in are two membership operators and it returns boolean value\n",
        "\n",
        "print(True in [10,10.20,10+20j,'Python', True])    #True\n",
        "print(False in (10,10.20,10+20j,'Python', False))  #True\n",
        "print(True in {1,2,3, True})                       #True\n",
        "print(True in {True:100, False:200, True:300})     #True\n",
        "print(False in {True:100, False:200, True:300})    #True"
      ],
      "execution_count": 40,
      "outputs": [
        {
          "output_type": "stream",
          "text": [
            "True\n",
            "True\n",
            "True\n",
            "True\n",
            "True\n"
          ],
          "name": "stdout"
        }
      ]
    },
    {
      "cell_type": "code",
      "metadata": {
        "id": "MPa1Lpco46Ja"
      },
      "source": [
        ""
      ],
      "execution_count": null,
      "outputs": []
    }
  ]
}