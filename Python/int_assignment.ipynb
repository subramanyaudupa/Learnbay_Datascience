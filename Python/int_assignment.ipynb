{
  "nbformat": 4,
  "nbformat_minor": 0,
  "metadata": {
    "colab": {
      "name": "int_assignment.ipynb",
      "provenance": [],
      "include_colab_link": true
    },
    "kernelspec": {
      "name": "python3",
      "display_name": "Python 3"
    }
  },
  "cells": [
    {
      "cell_type": "markdown",
      "metadata": {
        "id": "view-in-github",
        "colab_type": "text"
      },
      "source": [
        "<a href=\"https://colab.research.google.com/github/subramanyaudupa/Learnbay_Datascience/blob/main/Python/int_assignment.ipynb\" target=\"_parent\"><img src=\"https://colab.research.google.com/assets/colab-badge.svg\" alt=\"Open In Colab\"/></a>"
      ]
    },
    {
      "cell_type": "code",
      "metadata": {
        "id": "8A5Jw5NR1iEI",
        "outputId": "cbcb3128-d72c-47be-81d2-5e229534d434",
        "colab": {
          "base_uri": "https://localhost:8080/",
          "height": 34
        }
      },
      "source": [
        "#Declare an int value and store it in a variable. \n",
        "\n",
        "a = 10\n",
        "\n",
        "\n",
        "\n",
        "#Check the type and print the id of the same.\n",
        "\n",
        "print(id(a))"
      ],
      "execution_count": 1,
      "outputs": [
        {
          "output_type": "stream",
          "text": [
            "10914784\n"
          ],
          "name": "stdout"
        }
      ]
    },
    {
      "cell_type": "code",
      "metadata": {
        "id": "0YU8LFTn1rAX",
        "outputId": "08a47dd8-df80-412e-e1b1-834a512795f4",
        "colab": {
          "base_uri": "https://localhost:8080/",
          "height": 85
        }
      },
      "source": [
        "#Take one int value between 0 - 256.\n",
        "#Assign it to two different variables.\n",
        "#Check the id of both the variables. It should come same. Check why?\n",
        "\n",
        "a = 10\n",
        "b = 10\n",
        "print(id(a))\n",
        "print(id(b))\n",
        "\n",
        "#Take one int value either less than -5 or greater than 256.\n",
        "#Assign it to two different variables.\n",
        "#Check the id of both the variables. It should come different.Check why?\n",
        "\n",
        "a = -2\n",
        "b = 320\n",
        "print(id(a))\n",
        "print(id(b))\n"
      ],
      "execution_count": 3,
      "outputs": [
        {
          "output_type": "stream",
          "text": [
            "10914784\n",
            "10914784\n",
            "10914400\n",
            "139790668387472\n"
          ],
          "name": "stdout"
        }
      ]
    },
    {
      "cell_type": "code",
      "metadata": {
        "id": "YzEIG0ZZ1tSK",
        "outputId": "ce559ed7-4251-452b-9c05-8346b5c356b6",
        "colab": {
          "base_uri": "https://localhost:8080/",
          "height": 136
        }
      },
      "source": [
        "#Arithmatic Operations on integers\n",
        "#Take two different intger values.\n",
        "#Store them in two different variables.\n",
        "a = 20\n",
        "b = 30\n",
        "#Do below operations on them:-\n",
        "    #Find sum of both numbers\n",
        "print(a+b)\n",
        "    #Find differce between them\n",
        "print(a-b)\n",
        "    #Find the product of both numbers.\n",
        "print(a*b)\n",
        "    #Find value after dividing first num with second number\n",
        "print(a/b)\n",
        "    #Find the remainder after dividing first number with second number\n",
        "print(a//b)\n",
        "    #Find the quotient after dividing first number with second number\n",
        "print(a%b)\n",
        "    #Find the result of first num to the power of second number.\n",
        "print(a**b)"
      ],
      "execution_count": 5,
      "outputs": [
        {
          "output_type": "stream",
          "text": [
            "50\n",
            "-10\n",
            "600\n",
            "0.6666666666666666\n",
            "0\n",
            "20\n",
            "1073741824000000000000000000000000000000\n"
          ],
          "name": "stdout"
        }
      ]
    },
    {
      "cell_type": "code",
      "metadata": {
        "id": "GGM7CdzA1wGn",
        "outputId": "300c9f19-cee3-4715-807f-59bd05a7aa36",
        "colab": {
          "base_uri": "https://localhost:8080/",
          "height": 85
        }
      },
      "source": [
        "#Comparison Operators on integers\n",
        "#Take two different intger values.\n",
        "#Store them in two different variables.\n",
        "a = 30\n",
        "b = 40\n",
        "#Do below operations on them:-\n",
        "    #Compare se two numbers with below operator:-\n",
        "        #Greater than, '>'\n",
        "if(a > b):\n",
        "  print(True)\n",
        "else:\n",
        "  print(False)\n",
        "        #Smaller than, '<'\n",
        "if(a < b):\n",
        "  print(True)\n",
        "else:\n",
        "  print(False)\n",
        "        #Greater than or equal to, '>='\n",
        "if(a >= b):\n",
        "  print(True)\n",
        "else:\n",
        "  print(False)\n",
        "        #Less than or equal to, '<='\n",
        "\n",
        "if(a <= b):\n",
        "  print(True)\n",
        "else:\n",
        "  print(False)\n",
        "#Observe their output(return type should be boolean)"
      ],
      "execution_count": 7,
      "outputs": [
        {
          "output_type": "stream",
          "text": [
            "False\n",
            "True\n",
            "False\n",
            "True\n"
          ],
          "name": "stdout"
        }
      ]
    },
    {
      "cell_type": "code",
      "metadata": {
        "id": "9x904sUE1y9t",
        "outputId": "f6f4e2c7-8d97-4fbd-a139-87125593b6a5",
        "colab": {
          "base_uri": "https://localhost:8080/",
          "height": 51
        }
      },
      "source": [
        "#Equality Operator\n",
        "#Take two different intger values.\n",
        "#Store them in two different variables.\n",
        "a = 30\n",
        "b = 40\n",
        "#Equuate them using equality operator (==, !=)\n",
        "if(a==b):\n",
        "  print(True)\n",
        "else:\n",
        "  print(False)\n",
        "\n",
        "if(a!=b):\n",
        "  print(True)\n",
        "else:\n",
        "  print(False)\n",
        "#Observe the output(return type should be boolean)"
      ],
      "execution_count": 10,
      "outputs": [
        {
          "output_type": "stream",
          "text": [
            "False\n",
            "True\n"
          ],
          "name": "stdout"
        }
      ]
    },
    {
      "cell_type": "code",
      "metadata": {
        "id": "JmQFHUwc11S-",
        "outputId": "dbadabd7-e91f-4047-a19f-356ddb9c7605",
        "colab": {
          "base_uri": "https://localhost:8080/",
          "height": 187
        }
      },
      "source": [
        "#Logical operators\n",
        "#Observe the output of below code\n",
        "#Cross check the output manually\n",
        "\n",
        "print(10 and 20)       #----------------------------------------->Output is 20\n",
        "print(0 and 20)        #----------------------------------------->Output is 0\n",
        "print(20 and 0)        #----------------------------------------->Output is 0\n",
        "print(0 and 0)         #----------------------------------------->Output is 0\n",
        "\n",
        "print(10 or 20)        #----------------------------------------->Output is 10\n",
        "print(0 or 20)         #----------------------------------------->Output is 20\n",
        "print(20 or 0)         #----------------------------------------->Output is 20\n",
        "print(0 or 0)          #----------------------------------------->Output is 0\n",
        "\n",
        "print(not 10)          #----------------------------------------->Output is False\n",
        "print(not 0)           #----------------------------------------->Output is True"
      ],
      "execution_count": 11,
      "outputs": [
        {
          "output_type": "stream",
          "text": [
            "20\n",
            "0\n",
            "0\n",
            "0\n",
            "10\n",
            "20\n",
            "20\n",
            "0\n",
            "False\n",
            "True\n"
          ],
          "name": "stdout"
        }
      ]
    },
    {
      "cell_type": "code",
      "metadata": {
        "id": "-0tvoulX14Hi",
        "outputId": "33183f8f-b5a5-4beb-b2b5-196a88eadb78",
        "colab": {
          "base_uri": "https://localhost:8080/",
          "height": 170
        }
      },
      "source": [
        "#Bitwise Operators\n",
        "#Do below operations on the values provided below:-\n",
        "    #Bitwise and(&) -----------------------------------------> 10, 20   -------> Output is 0 \n",
        "print(10&20)\n",
        "    #Bitwise or(|)  -----------------------------------------> 10, 20   -------> Output is 30\n",
        "print(10|20)\n",
        "    #Bitwise(^)     -----------------------------------------> 10, 20   -------> Output is 30\n",
        "print(10^20)\n",
        "    #Bitwise negation(~) ------------------------------------> 10       -------> Output is -11\n",
        "print(~10)\n",
        "    #Bitwise left shift  ------------------------------------> 10,2     -------> Output is 40\n",
        "print(10<<2)\n",
        "    #Bitwise right shift ------------------------------------> 10,2     -------> Output is 2\n",
        "print(10>>2)\n",
        "#Cross check the output manually\n",
        "a = 10\n",
        "b = 20\n",
        "print(bin(a))\n",
        "print(bin(b))\n",
        "\n",
        "# 10 = 01010\n",
        "# 20 = 10100\n",
        "# -----------\n",
        "# & =  00000\n",
        "# | =  11110\n",
        "# ^ =  11110\n"
      ],
      "execution_count": 18,
      "outputs": [
        {
          "output_type": "stream",
          "text": [
            "0\n",
            "30\n",
            "30\n",
            "-11\n",
            "40\n",
            "2\n",
            "0b1010\n",
            "0b10100\n",
            "30\n"
          ],
          "name": "stdout"
        }
      ]
    },
    {
      "cell_type": "code",
      "metadata": {
        "id": "YCcx-Qx016hg",
        "outputId": "9445ab1c-221b-47b1-d61a-7d7826d0e2e6",
        "colab": {
          "base_uri": "https://localhost:8080/",
          "height": 85
        }
      },
      "source": [
        "#What is the output of expression inside print statement. Cross check before running the program.\n",
        "a = 10\n",
        "b = 10\n",
        "print(a is b)          #True or False?===> True\n",
        "print(a is not b)      #True or False?===> False\n",
        "\n",
        "a = 1000\n",
        "b = 1000\n",
        "print(a is b)          #True or False? =====> False\n",
        "print(a is not b)      #True or False?====> True\n",
        "\n",
        "#Why because, Object reusuability concept. Uses sanme id b/w -5-256. "
      ],
      "execution_count": 21,
      "outputs": [
        {
          "output_type": "stream",
          "text": [
            "True\n",
            "False\n",
            "False\n",
            "True\n"
          ],
          "name": "stdout"
        }
      ]
    },
    {
      "cell_type": "code",
      "metadata": {
        "id": "Un2To3XN1_Il",
        "outputId": "04e06915-0b01-456c-ae0e-5a146cf357cb",
        "colab": {
          "base_uri": "https://localhost:8080/",
          "height": 34
        }
      },
      "source": [
        "#What is the output of expression inside print statement. Cross check before running the program.\n",
        "print(10+(10*32)//2**5&20+(~(-10))<<2)  \n",
        "\n",
        "#Operators precedence\n",
        "                                        "
      ],
      "execution_count": 22,
      "outputs": [
        {
          "output_type": "stream",
          "text": [
            "20\n"
          ],
          "name": "stdout"
        }
      ]
    },
    {
      "cell_type": "code",
      "metadata": {
        "id": "kGRb5RMd1_1I",
        "outputId": "af771926-7fd7-4503-e43b-8711254fa478",
        "colab": {
          "base_uri": "https://localhost:8080/",
          "height": 136
        }
      },
      "source": [
        "#Membership operation\n",
        "#in, not in are two membership operators and it returns boolean value\n",
        "\n",
        "print('2' in 'Python2.7.8')    #True\n",
        "print(10 in [10,10.20,10+20j,'Python']) #True\n",
        "print(10 in (10,10.20,10+20j,'Python')) # True\n",
        "print(2 in {1,2,3})  #True\n",
        "print(3 in {1:100, 2:200 , 3:300}) # True\n",
        "print(10 in range(20))  # True\n",
        "list(range(20))"
      ],
      "execution_count": 25,
      "outputs": [
        {
          "output_type": "stream",
          "text": [
            "True\n",
            "True\n",
            "True\n",
            "True\n",
            "True\n",
            "True\n"
          ],
          "name": "stdout"
        },
        {
          "output_type": "execute_result",
          "data": {
            "text/plain": [
              "[0, 1, 2, 3, 4, 5, 6, 7, 8, 9, 10, 11, 12, 13, 14, 15, 16, 17, 18, 19]"
            ]
          },
          "metadata": {
            "tags": []
          },
          "execution_count": 25
        }
      ]
    },
    {
      "cell_type": "code",
      "metadata": {
        "id": "Es7iSvL92B9W"
      },
      "source": [
        "#An integer can be represented in binary, octal or hexadecimal form.\n",
        "#Declare one binary, one octal and one hexadecimal value and store them in three different variables.\n",
        "#Convert 9876 to its binary, octal and hexadecimal equivalent and print their corresponding value."
      ],
      "execution_count": null,
      "outputs": []
    },
    {
      "cell_type": "code",
      "metadata": {
        "id": "Hm0r03lH2E0i",
        "outputId": "e8198e9b-9d4f-4af9-fe05-fe8fcee896a8",
        "colab": {
          "base_uri": "https://localhost:8080/",
          "height": 221
        }
      },
      "source": [
        "#What will be the outut of following:-\n",
        "a = 0b1010000\n",
        "print(a)               #---------------------------->>>> 80\n",
        "\n",
        "b = 0o7436\n",
        "print(b)               #---------------------------->>>> 3870\n",
        "\n",
        "c = 0xfade\n",
        "print(c)               #---------------------------->>>> 64222\n",
        "\n",
        "print(bin(80))         # ----------------------------->>>>> 0b1010000\n",
        "\n",
        "print(oct(3870))       #------------------------------>>>>>> 0o7436\n",
        "\n",
        "print(hex(64222))      # ------------------------>>>>>>> 0xfade\n",
        "\n",
        "print(bin(0b1010000))  #-------------------------->>>>>>>0b1010000\n",
        "\n",
        "print(bin(0xfade))     #------------------------->>>>>> 0b1111101011011110\n",
        "\n",
        "print(oct(0xfade))     #------------------------->>>>>> 0o175336    \n",
        "\n",
        "print(oct(0o7436))    #------------------------->>>>>> 0o7436\n",
        "\n",
        "print(hex(0b1010000)) #------------------------->>>>>> 0x50\n",
        "\n",
        "print(hex(0xfade))   #------------------------->>>>>> 0xfade"
      ],
      "execution_count": 26,
      "outputs": [
        {
          "output_type": "stream",
          "text": [
            "80\n",
            "3870\n",
            "64222\n",
            "0b1010000\n",
            "0o7436\n",
            "0xfade\n",
            "0b1010000\n",
            "0b1111101011011110\n",
            "0o175336\n",
            "0o7436\n",
            "0x50\n",
            "0xfade\n"
          ],
          "name": "stdout"
        }
      ]
    }
  ]
}