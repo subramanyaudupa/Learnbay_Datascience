{
  "nbformat": 4,
  "nbformat_minor": 0,
  "metadata": {
    "colab": {
      "name": "Copy of Copy of Conditional_and_loop_assignment.ipynb",
      "provenance": [],
      "include_colab_link": true
    },
    "kernelspec": {
      "name": "python3",
      "display_name": "Python 3"
    }
  },
  "cells": [
    {
      "cell_type": "markdown",
      "metadata": {
        "id": "view-in-github",
        "colab_type": "text"
      },
      "source": [
        "<a href=\"https://colab.research.google.com/github/subramanyaudupa/Learnbay_Datascience/blob/main/Python/Copy_of_Copy_of_Conditional_and_loop_assignment.ipynb\" target=\"_parent\"><img src=\"https://colab.research.google.com/assets/colab-badge.svg\" alt=\"Open In Colab\"/></a>"
      ]
    },
    {
      "cell_type": "markdown",
      "metadata": {
        "id": "wNRNTbrsc53d"
      },
      "source": [
        "# If - elif - else statement"
      ]
    },
    {
      "cell_type": "code",
      "metadata": {
        "id": "MiPfTnBycxNa",
        "outputId": "7c4af06e-b0a8-4eb1-aba3-5c1b47faa452",
        "colab": {
          "base_uri": "https://localhost:8080/"
        }
      },
      "source": [
        "#W. A P. which takes one number from 0 to 9 from the user and prints it in the word. And if the word is not from 0 to 9 then\n",
        "#it should print that number is outside of the range and program should exit.\n",
        "# For exapmple:- \n",
        "# input = 1\n",
        "# output = one\n",
        "\n",
        "num = int(input('Enter a Number: '))\n",
        "if num <= 9:\n",
        "    print(num)\n",
        "else:\n",
        "    print(\"Number is out of range\")"
      ],
      "execution_count": null,
      "outputs": [
        {
          "output_type": "stream",
          "text": [
            "Enter a Number: 9\n",
            "9\n"
          ],
          "name": "stdout"
        }
      ]
    },
    {
      "cell_type": "code",
      "metadata": {
        "id": "vEMNOv9zdA39",
        "outputId": "f72c8575-5962-4804-ed5d-977f35f9a703",
        "colab": {
          "base_uri": "https://localhost:8080/"
        }
      },
      "source": [
        "#W. A P. to implement calculator but the operation to be done and two numbers will be taken as input from user:-\n",
        "#Operation console should show below:-\n",
        "#     Please select any one operation from below:-\n",
        "#         * To add enter 1\n",
        "#         * to subtract enter 2\n",
        "#         * To multiply enter 3\n",
        "#         * To divide enter 4\n",
        "#         * To divide and find quotient enter 5\n",
        "#         * To divide and find remainder enter 6\n",
        "#         * To divide and find num1 to the power of num2 enter 7\n",
        "#         * To Come out of the program enter 8\n",
        "\n",
        "\n",
        "# #This function performs addition\n",
        "def add(a, b):\n",
        "  return a + b\n",
        "#This function performs subtraction\n",
        "def subtract(a, b):\n",
        "  return a - b\n",
        "#This function performs multiplication\n",
        "def multiply(a, b):\n",
        "  return a * b\n",
        "#This function performs division\n",
        "def divide(a ,b):\n",
        "  return a/b\n",
        "#This function performs division(Quotient)\n",
        "def Quotient(a ,b):\n",
        "  return (a // b)\n",
        "#This function performs Remainder\n",
        "def Mod(a , b):\n",
        "  return (a % b)\n",
        "\n",
        "# print(\"Select an operation.\")\n",
        "# print(\"+\")\n",
        "# print(\"-\")\n",
        "# print(\"*\")\n",
        "# print(\"/\")\n",
        "# print(\"//\")\n",
        "# print(\"%\")\n",
        "\n",
        "# #User input\n",
        "# num = input(\"Enter the operator to use : \")\n",
        "# A = int(input(\"Enter the first number : \"))\n",
        "# B = int(input(\"Enter the second number : \"))\n",
        "\n",
        "# if num == '+':\n",
        "#   print(A,\"+\",B,\"=\", add(A,B))\n",
        "# elif num == '-':\n",
        "#   print(A,\"-\",B,\"=\", subtract(A,B))\n",
        "# elif num == '*':\n",
        "#   print(A,\"*\",B,\"=\", Multiply(A,B))\n",
        "# elif num == '/':\n",
        "#   print(A,\"/\",B,\"=\", Divide(A,B))\n",
        "# elif num == '//':\n",
        "#   print(A,\"//\",B,\"=\", Quotient(A,B))\n",
        "# elif num == '%':\n",
        "#   print(A,\"%\",B,\"=\", Mod(A,B))\n",
        "# else:\n",
        "#   print(\"Invalid Input\")\n",
        "\n",
        "\n",
        "\n",
        "#(or) we can write a program using simple if else\n",
        "\n",
        "\n",
        "A = int(input(\"Enter the first number : \"))\n",
        "B = int(input(\"Enter the second number : \"))\n",
        "print(\"+\")\n",
        "print(\"-\")\n",
        "print(\"*\")\n",
        "print(\"/\")\n",
        "print(\"//\")\n",
        "print(\"%\")\n",
        "num = input(\"Enter the operator : \")\n",
        "print(\"The operation you have selected is\", num)\n",
        "\n",
        "if num == '+':\n",
        "  print(A,\"+\",B,\"=\", add(A,B))\n",
        "elif num == '-':\n",
        "  print(A,\"-\",B,\"=\", subtract(A,B))\n",
        "elif num == '*':\n",
        "  print(A,\"*\",B,\"=\", Multiply(A,B))\n",
        "elif num == '/':\n",
        "  print(A,\"/\",B,\"=\", Divide(A,B))\n",
        "elif num == '//':\n",
        "  print(A,\"//\",B,\"=\", Quotient(A,B))\n",
        "elif num == '%':\n",
        "  print(A,\"%\",B,\"=\", Mod(A,B))\n",
        "else:\n",
        "  print(\"Invalid Input\")\n",
        "\n",
        "\n",
        "\n"
      ],
      "execution_count": null,
      "outputs": [
        {
          "output_type": "stream",
          "text": [
            "Enter the first number : 1\n",
            "Enter the second number : 2\n",
            "+\n",
            "-\n",
            "*\n",
            "/\n",
            "//\n",
            "%\n",
            "Enter the operator : +\n",
            "The operation you have selected is +\n",
            "1 + 2 = 3\n"
          ],
          "name": "stdout"
        }
      ]
    },
    {
      "cell_type": "code",
      "metadata": {
        "id": "1e2gwYLqdC1s",
        "outputId": "f38e79f8-6762-45bf-ed7a-f71857d2357e",
        "colab": {
          "base_uri": "https://localhost:8080/"
        }
      },
      "source": [
        "#W A P to check whether a year entered by user is an leap year or not?\n",
        "#Check with below input:-\n",
        "    #leap year:- 2012, 1968, 2004, 1200, 1600,2400\n",
        "    #Non-lear year:- 1971, 2006, 1700,1800,1900\n",
        "    \n",
        "\n",
        "Year = int(input(\"Enter the year:\"))\n",
        "if (Year%4==0 and Year%100!=0) or Year%400==0:\n",
        "  print(Year, \"is a leap year\")\n",
        "else:\n",
        "  print(Year, \"is not a leap year\")\n",
        "\n",
        "# Year = int(input(\"Enter the year:\"))\n",
        "# if (Year%4==0):\n",
        "#   if (Year%100==0):\n",
        "#     if (Year%400==0):\n",
        "#       print(Year,\"is a leap year\" )\n",
        "#     else:\n",
        "#       print(Year,\"is not a leap year\")\n",
        "#   else:\n",
        "#       print(Year,\"is a leap Year\")\n",
        "# else:\n",
        "#   print(Year, \"is a leap year\")"
      ],
      "execution_count": null,
      "outputs": [
        {
          "output_type": "stream",
          "text": [
            "Enter the year:2000\n",
            "2000 is a leap year\n"
          ],
          "name": "stdout"
        }
      ]
    },
    {
      "cell_type": "code",
      "metadata": {
        "id": "_tpXv1EtdEre",
        "outputId": "f5c5c171-25ef-4f07-9376-b338f9814826",
        "colab": {
          "base_uri": "https://localhost:8080/"
        }
      },
      "source": [
        "#W A P which takes one number from the user and checks whether it is an even or odd number?, If it even then prints number is \n",
        "#even number else prints that number is odd number.\n",
        "\n",
        "num = int(input(\"Enter the number: \"))\n",
        "if num%2 == 0:\n",
        "  print(num,\"is even number\")\n",
        "else:\n",
        "  print(num,\"is odd number\")"
      ],
      "execution_count": null,
      "outputs": [
        {
          "output_type": "stream",
          "text": [
            "Enter the number: 27\n",
            "27 is odd number\n"
          ],
          "name": "stdout"
        }
      ]
    },
    {
      "cell_type": "code",
      "metadata": {
        "id": "Q1HumymCdG6i"
      },
      "source": [
        "#W A P which takes two numbers from the user and prints below output:-\n",
        "#     1. num1 is greater than num2 if num1 is greater than num2\n",
        "#     2. num1 is smaller than num2 if num1 is smaller than num2\n",
        "#     3. num1 is equal to num2 if num1 and num2 are equal\n",
        "\n",
        "#Note:- 1. Do this problem using if - else \n",
        "#       2. Do this using ternary operator\n",
        "\n",
        "num1 = eval(input(\"Enter the first number: \"))\n",
        "num2 = eval(input(\"Enter the second number: \"))\n",
        "\n",
        "if (num1>num2):\n",
        "  print(num1,\"is greater\")\n",
        "elif num1<num2:\n",
        "  print(num2,\"is greater\")\n",
        "else:\n",
        "  print(\"Both are equal\")\n",
        "\n",
        "#The above approach can be written using ternary \n",
        "\n",
        "print(\"Both num1 and num2 are equal\" if num1 == num2 else \"num1 is greater than num2\"\n",
        "        if num1 > num2 else \"num2 is greater than num1\") \n",
        "\n",
        "#(or)\n",
        " \n",
        "print(\"Both are equal\" if num1==num2 else \"num1 is greater\" if num1>num2 else \"num2 is greater\")"
      ],
      "execution_count": null,
      "outputs": []
    },
    {
      "cell_type": "code",
      "metadata": {
        "id": "LR6TVB-DdOPf"
      },
      "source": [
        "#W A P which takes three numbers from the user and prints below output:-\n",
        "#     1. num1 is greater than num2 and num3 if num1 is greater than num2 and num3\n",
        "#     2. num2 is greater than num1 and num3 if num2 is greater than num1 and num3\n",
        "#     3. num3 is greater than num1 and num2 if num3 is greater than num1 and num2\n",
        "\n",
        "#Note:- 1. Do this problem using if - elif - else \n",
        "#       2. Do this using ternary operator\n",
        "\n",
        "# a = a if a>b else b\n",
        "\n",
        "num1 = int(input(\"Enter the first number: \"))\n",
        "num2 = int(input(\"Enter the second number: \"))\n",
        "num3 = int(input(\"Enter the third number: \"))\n",
        "\n",
        "if num2 < num1 > num3:\n",
        "  print(num1,\"is greater\")\n",
        "elif num1 < num2 > num3:\n",
        "  print(num2,\"is greater\")\n",
        "else:\n",
        "  print(num3,\"is greater\")\n",
        "\n",
        "#The above approach can be written using ternary \n",
        "\n",
        "print(\"num1 is greater\" if num2 < num1 > num3 else \"num2 is greater\" if num1 < num2 > num3 else \"num3 is greater\")\n",
        "\n",
        "\n"
      ],
      "execution_count": null,
      "outputs": []
    },
    {
      "cell_type": "markdown",
      "metadata": {
        "id": "IoOLQMUGdSox"
      },
      "source": [
        "# Loops - for loop, while loop"
      ]
    },
    {
      "cell_type": "code",
      "metadata": {
        "id": "9K23Uld8dQfA"
      },
      "source": [
        "#Write a Python program to find the length of the my_str using loop:-\n",
        "\n",
        "#Input:- 'Write a Python program to find the length of the my_str'\n",
        "#Output:- 55\n",
        "\n",
        "my_str = 'Python'\n",
        "len(my_str)"
      ],
      "execution_count": null,
      "outputs": []
    },
    {
      "cell_type": "code",
      "metadata": {
        "id": "bp6AcqTsdYxy"
      },
      "source": [
        "#Write a Python program to find the total number of times letter 'p' is appeared in the below string using loop:-\n",
        "    \n",
        "#Input:- 'peter piper picked a peck of pickled peppers.\\n'\n",
        "#Output:- 9\n",
        "\n",
        "\n",
        "my_str = 'peter piper picked a peck of pickled peppers'\n",
        "count = 0\n",
        "\n",
        "for word in my_str:\n",
        "  if word =='p':\n",
        "    count = count + 1 \n",
        "print(\"The Count of p for the given string is\",str(count))"
      ],
      "execution_count": null,
      "outputs": []
    },
    {
      "cell_type": "code",
      "metadata": {
        "id": "xvxSBhTJdav1",
        "outputId": "b6bf39f0-6c06-482b-b67b-7b110b46d95c",
        "colab": {
          "base_uri": "https://localhost:8080/"
        }
      },
      "source": [
        "#Write a Python Program, to print all the indexes of all occurences of letter 'p' appeared in the string using loop:-\n",
        "    \n",
        "#Input:- 'peter piper picked a peck of pickled peppers.'\n",
        "#Output:- \n",
        "# 0\n",
        "# 6\n",
        "# 8\n",
        "# 12\n",
        "# 21\n",
        "# 29\n",
        "# 37\n",
        "# 39\n",
        "# 40\n",
        "\n",
        "s = 'peter piper picked a peck of pickled peppers'\n",
        "subs = 'p'\n",
        "\n",
        "i = s.find(subs)\n",
        "print(i) \n",
        "print(\"=======================\")                # only one starting position\n",
        "while i== -1:\n",
        "  print(\"substring not found\")\n",
        "while i!= -1:\n",
        "  print('{} present at index {}'.format(subs, i))\n",
        "  i=s.find(subs,i+len(subs),len(s)) # seatch in the remaining string.\n"
      ],
      "execution_count": 14,
      "outputs": [
        {
          "output_type": "stream",
          "text": [
            "0\n",
            "=======================\n",
            "p present at index 0\n",
            "p present at index 6\n",
            "p present at index 8\n",
            "p present at index 12\n",
            "p present at index 21\n",
            "p present at index 29\n",
            "p present at index 37\n",
            "p present at index 39\n",
            "p present at index 40\n"
          ],
          "name": "stdout"
        }
      ]
    },
    {
      "cell_type": "code",
      "metadata": {
        "id": "79L_feMadbmw",
        "outputId": "b2543bf1-3997-490a-d69e-02f5845fc687",
        "colab": {
          "base_uri": "https://localhost:8080/"
        }
      },
      "source": [
        "#Write a python program to find below output using loop:-\n",
        "\n",
        "#Input:- 'peter piper picked a peck of pickled peppers.'\n",
        "#Output:- ['peter', 'piper', 'picked', 'a', 'peck', 'of', 'pickled', 'peppers']\n",
        "\n",
        "my_str = 'peter piper picked a peck of pickled peppers.'\n",
        "\n",
        "print(my_str.split())"
      ],
      "execution_count": null,
      "outputs": [
        {
          "output_type": "stream",
          "text": [
            "['peter', 'piper', 'picked', 'a', 'peck', 'of', 'pickled', 'peppers.']\n"
          ],
          "name": "stdout"
        }
      ]
    },
    {
      "cell_type": "code",
      "metadata": {
        "id": "vzs5AJ53deVS",
        "outputId": "4e8540dd-6ab8-4287-8f7b-90460c069ba4",
        "colab": {
          "base_uri": "https://localhost:8080/"
        }
      },
      "source": [
        "#Write a python program to find below output using loop:-\n",
        "\n",
        "#Input:- 'peter piper picked a peck of pickled peppers.'\n",
        "#Output:- 'peppers pickled of peck a picked piper peter'\n",
        "\n",
        "s = 'peter piper picked a peck of pickled peppers'\n",
        "l = s.split()\n",
        "print(l)\n",
        "l1 = l[::-1]\n",
        "print(l1)\n",
        "output = ' '.join(l1)\n",
        "print(output)"
      ],
      "execution_count": null,
      "outputs": [
        {
          "output_type": "stream",
          "text": [
            "['peter', 'piper', 'picked', 'a', 'peck', 'of', 'pickled', 'peppers']\n",
            "['peppers', 'pickled', 'of', 'peck', 'a', 'picked', 'piper', 'peter']\n",
            "peppers pickled of peck a picked piper peter\n"
          ],
          "name": "stdout"
        }
      ]
    },
    {
      "cell_type": "code",
      "metadata": {
        "id": "i-HP7DrCdhwS",
        "outputId": "fe38c77c-0b16-4083-9d62-e83e689ed3fc",
        "colab": {
          "base_uri": "https://localhost:8080/"
        }
      },
      "source": [
        "#Write a python program to find below output using loop:-\n",
        "\n",
        "#Input:- 'peter piper picked a peck of pickled peppers.'\n",
        "#Output:- '.sreppep delkcip fo kcep a dekcip repip retep'\n",
        "\n",
        "def my_function(x):\n",
        "  return x[::-1]\n",
        "\n",
        "mytxt = my_function(\"peter piper picked a peck of pickled peppers\")\n",
        "\n",
        "print(mytxt)\n",
        "\n",
        "\n",
        "s = 'peter piper picked a peck of pickled peppers.'\n",
        "output = ''\n",
        "i = len(s) - 1\n",
        "while i > 0:\n",
        "  output = output+s[i]\n",
        "  i = i-1"
      ],
      "execution_count": null,
      "outputs": [
        {
          "output_type": "stream",
          "text": [
            "sreppep delkcip fo kcep a dekcip repip retep\n"
          ],
          "name": "stdout"
        }
      ]
    },
    {
      "cell_type": "code",
      "metadata": {
        "id": "3rt6p0ytdkq0"
      },
      "source": [
        "#Write a python program to find below output using loop:-\n",
        "\n",
        "#Input:- 'peter piper picked a peck of pickled peppers.'\n",
        "#Output:- 'retep repip dekcip a kcep fo delkcip sreppep'\n",
        "\n"
      ],
      "execution_count": null,
      "outputs": []
    },
    {
      "cell_type": "code",
      "metadata": {
        "id": "HdlAWgT2dnKO",
        "outputId": "a51685ef-3646-420f-f334-5c9f7351098f",
        "colab": {
          "base_uri": "https://localhost:8080/"
        }
      },
      "source": [
        "#Write a python program to find below output using loop:-\n",
        "\n",
        "#Input:- 'peter piper picked a peck of pickled peppers.'\n",
        "#Output:- 'Peter Piper Picked A Peck Of Pickled Peppers'\n",
        "\n",
        "string = 'peter piper picked a peck of pickled peppers'\n",
        "print(string.replace(\"A\", \"a\"))"
      ],
      "execution_count": 15,
      "outputs": [
        {
          "output_type": "stream",
          "text": [
            "peter piper picked a peck of pickled peppers\n"
          ],
          "name": "stdout"
        }
      ]
    },
    {
      "cell_type": "code",
      "metadata": {
        "id": "OthUuacodrNl",
        "outputId": "61bd1a53-3b03-4833-a75e-87a9e0af0ba3",
        "colab": {
          "base_uri": "https://localhost:8080/"
        }
      },
      "source": [
        "#Write a python program to find below output using loop:-\n",
        "\n",
        "#Input:- 'Peter Piper Picked A Peck Of Pickled Peppers.'\n",
        "#Output:- 'Peter piper picked a peck of pickled peppers'\n",
        "\n",
        "string = 'peter piper picked a peck of pickled peppers'\n",
        "print(string.replace(\"a\", \"A\"))"
      ],
      "execution_count": 16,
      "outputs": [
        {
          "output_type": "stream",
          "text": [
            "peter piper picked A peck of pickled peppers\n"
          ],
          "name": "stdout"
        }
      ]
    },
    {
      "cell_type": "code",
      "metadata": {
        "id": "scmDJE-ldsI9",
        "outputId": "e6f2cdbb-b3ad-42de-ffc7-4fc687a0bf8b",
        "colab": {
          "base_uri": "https://localhost:8080/"
        }
      },
      "source": [
        "#Write a python program to implement index method using loop. If sub_str is found in my_str then it will print the index\n",
        "# of first occurrence of first character of matching string in my_str:-\n",
        "\n",
        "#Input:- my_str = 'Peter Piper Picked A Peck Of Pickled Peppers.', sub_str = 'Pickl'\n",
        "#Output:- 29\n",
        "\n",
        "s = 'peter piper picked a peck of pickled peppers'\n",
        "subs = 'pickl'\n",
        "\n",
        "i = s.find(subs)\n",
        "print(i) \n"
      ],
      "execution_count": 21,
      "outputs": [
        {
          "output_type": "stream",
          "text": [
            "29\n"
          ],
          "name": "stdout"
        }
      ]
    },
    {
      "cell_type": "code",
      "metadata": {
        "id": "Kq_fwdb_dvYE",
        "outputId": "68131bf9-8b0f-4327-c34c-3f6eb8fd04f2",
        "colab": {
          "base_uri": "https://localhost:8080/"
        }
      },
      "source": [
        "#Write a python program to implement replace method using loop. If sub_str is found in my_str then it will replace the first \n",
        "#occurrence of sub_str with new_str else it will will print sub_str not found:-\n",
        "\n",
        "#Input:- my_str = 'Peter Piper Picked A Peck Of Pickled Peppers.', sub_str = 'Peck', new_str = 'Pack'\n",
        "#Output:- 'Peter Piper Picked A Pack Of Pickled Peppers.'\n",
        "\n",
        "s = 'Peter Piper Picked A Peck Of Pickled Peppers'\n",
        "subs = 'Peck'\n",
        "i = s.find(subs)\n",
        "# while i!= -1:\n",
        "i = s.replace('Peck','Pack')\n",
        "print(i)\n",
        "# else:\n",
        "# print(\"substring not found\")\n",
        "\n",
        "   \n",
        "\n"
      ],
      "execution_count": 38,
      "outputs": [
        {
          "output_type": "stream",
          "text": [
            "Peter Piper Picked A Pack Of Pickled Peppers\n"
          ],
          "name": "stdout"
        }
      ]
    },
    {
      "cell_type": "code",
      "metadata": {
        "id": "4Qes5D0cdyd1"
      },
      "source": [
        "#Write a python program to find below output (implements rjust and ljust) using loop:-\n",
        "\n",
        "#Input:- 'Peter Piper Picked A Peck Of Pickled Peppers.', sub_str = 'Peck', \n",
        "#Output:- '*********************Peck********************'\n",
        "\n"
      ],
      "execution_count": 17,
      "outputs": []
    },
    {
      "cell_type": "code",
      "metadata": {
        "id": "DsOrb07Od0lR",
        "outputId": "130b7da7-5ce2-4de6-a28a-54c5fabae2f5",
        "colab": {
          "base_uri": "https://localhost:8080/"
        }
      },
      "source": [
        "#Write a python program to find below output using loop:-\n",
        "\n",
        "#Input:- 'This is Python class', sep = ' is', \n",
        "#Output:- ['This', 'is', 'Python class']\n",
        "\n",
        "my_str = 'This is Python Class'\n",
        "my_str.split()   \n",
        "\n",
        "\n",
        "\n",
        "\n",
        "\n"
      ],
      "execution_count": 48,
      "outputs": [
        {
          "output_type": "execute_result",
          "data": {
            "text/plain": [
              "['This', 'is', 'Python', 'Class']"
            ]
          },
          "metadata": {
            "tags": []
          },
          "execution_count": 48
        }
      ]
    },
    {
      "cell_type": "code",
      "metadata": {
        "id": "jRnBVufmd2Ay"
      },
      "source": [
        "\n",
        "\n"
      ],
      "execution_count": null,
      "outputs": []
    }
  ]
}